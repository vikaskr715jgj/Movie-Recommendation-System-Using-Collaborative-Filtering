{
 "cells": [
  {
   "cell_type": "markdown",
   "id": "b0b948a6",
   "metadata": {},
   "source": [
    "# The Primary Goals of this Movie Recommendation Project are:\n",
    "1. To develop a Movie Recommendation System using collaborative filtering techniques.\n",
    "2. To analyze user rating patterns and identify similar users for personalized recommendations.\n",
    "3. To create a User-Item Matrix for mapping user ratings to movies.\n",
    "4. To leverage cosine similarity to measure user-user similarity.\n",
    "5. To recommend movies that a user is likely to enjoy based on the preferences of other similar users.\n",
    "6. To enhance user experience by delivering personalized and relevant movie suggestions."
   ]
  },
  {
   "cell_type": "markdown",
   "id": "fe3878de",
   "metadata": {},
   "source": [
    " "
   ]
  },
  {
   "cell_type": "markdown",
   "id": "95346e14",
   "metadata": {},
   "source": [
    "**1. Importing the Libraries**"
   ]
  },
  {
   "cell_type": "code",
   "execution_count": 125,
   "id": "52898446",
   "metadata": {},
   "outputs": [],
   "source": [
    "# Importing required libraries \n",
    "import numpy as np\n",
    "import pandas as pd \n",
    "import matplotlib.pyplot as plt\n",
    "import seaborn as sns\n",
    "from sklearn.preprocessing import StandardScaler\n",
    "from sklearn.metrics.pairwise import cosine_similarity"
   ]
  },
  {
   "cell_type": "markdown",
   "id": "c37ccf39",
   "metadata": {},
   "source": [
    "# "
   ]
  },
  {
   "cell_type": "markdown",
   "id": "643d8e11",
   "metadata": {},
   "source": [
    "**2. Loading the Datasets**"
   ]
  },
  {
   "cell_type": "code",
   "execution_count": 126,
   "id": "f823532e",
   "metadata": {},
   "outputs": [],
   "source": [
    "movies = pd.read_csv(\"movies_new.csv\",encoding='ISO-8859-1')"
   ]
  },
  {
   "cell_type": "code",
   "execution_count": 127,
   "id": "9c8195f8",
   "metadata": {},
   "outputs": [
    {
     "data": {
      "text/plain": [
       "Index(['movie_id', 'title', 'genres'], dtype='object')"
      ]
     },
     "execution_count": 127,
     "metadata": {},
     "output_type": "execute_result"
    }
   ],
   "source": [
    "movies.columns"
   ]
  },
  {
   "cell_type": "code",
   "execution_count": 128,
   "id": "c710b572",
   "metadata": {},
   "outputs": [
    {
     "data": {
      "text/html": [
       "<div>\n",
       "<style scoped>\n",
       "    .dataframe tbody tr th:only-of-type {\n",
       "        vertical-align: middle;\n",
       "    }\n",
       "\n",
       "    .dataframe tbody tr th {\n",
       "        vertical-align: top;\n",
       "    }\n",
       "\n",
       "    .dataframe thead th {\n",
       "        text-align: right;\n",
       "    }\n",
       "</style>\n",
       "<table border=\"1\" class=\"dataframe\">\n",
       "  <thead>\n",
       "    <tr style=\"text-align: right;\">\n",
       "      <th></th>\n",
       "      <th>movie_id</th>\n",
       "      <th>title</th>\n",
       "      <th>genres</th>\n",
       "    </tr>\n",
       "  </thead>\n",
       "  <tbody>\n",
       "    <tr>\n",
       "      <th>0</th>\n",
       "      <td>1</td>\n",
       "      <td>Toy Story (1995)</td>\n",
       "      <td>Animation|Children's|Comedy</td>\n",
       "    </tr>\n",
       "    <tr>\n",
       "      <th>1</th>\n",
       "      <td>2</td>\n",
       "      <td>Jumanji (1995)</td>\n",
       "      <td>Adventure|Children's|Fantasy</td>\n",
       "    </tr>\n",
       "    <tr>\n",
       "      <th>2</th>\n",
       "      <td>3</td>\n",
       "      <td>Grumpier Old Men (1995)</td>\n",
       "      <td>Comedy|Romance</td>\n",
       "    </tr>\n",
       "    <tr>\n",
       "      <th>3</th>\n",
       "      <td>4</td>\n",
       "      <td>Waiting to Exhale (1995)</td>\n",
       "      <td>Comedy|Drama</td>\n",
       "    </tr>\n",
       "    <tr>\n",
       "      <th>4</th>\n",
       "      <td>5</td>\n",
       "      <td>Father of the Bride Part II (1995)</td>\n",
       "      <td>Comedy</td>\n",
       "    </tr>\n",
       "  </tbody>\n",
       "</table>\n",
       "</div>"
      ],
      "text/plain": [
       "   movie_id                               title                        genres\n",
       "0         1                    Toy Story (1995)   Animation|Children's|Comedy\n",
       "1         2                      Jumanji (1995)  Adventure|Children's|Fantasy\n",
       "2         3             Grumpier Old Men (1995)                Comedy|Romance\n",
       "3         4            Waiting to Exhale (1995)                  Comedy|Drama\n",
       "4         5  Father of the Bride Part II (1995)                        Comedy"
      ]
     },
     "execution_count": 128,
     "metadata": {},
     "output_type": "execute_result"
    }
   ],
   "source": [
    "movies.head()"
   ]
  },
  {
   "cell_type": "markdown",
   "id": "38488f8a",
   "metadata": {},
   "source": [
    " "
   ]
  },
  {
   "cell_type": "code",
   "execution_count": 129,
   "id": "5e79a6c5",
   "metadata": {},
   "outputs": [],
   "source": [
    "ratings = pd.read_csv(\"ratings_cleaned.csv\")"
   ]
  },
  {
   "cell_type": "code",
   "execution_count": 130,
   "id": "6aa76289",
   "metadata": {},
   "outputs": [
    {
     "data": {
      "text/html": [
       "<div>\n",
       "<style scoped>\n",
       "    .dataframe tbody tr th:only-of-type {\n",
       "        vertical-align: middle;\n",
       "    }\n",
       "\n",
       "    .dataframe tbody tr th {\n",
       "        vertical-align: top;\n",
       "    }\n",
       "\n",
       "    .dataframe thead th {\n",
       "        text-align: right;\n",
       "    }\n",
       "</style>\n",
       "<table border=\"1\" class=\"dataframe\">\n",
       "  <thead>\n",
       "    <tr style=\"text-align: right;\">\n",
       "      <th></th>\n",
       "      <th>user_id</th>\n",
       "      <th>movie_id</th>\n",
       "      <th>rating</th>\n",
       "      <th>timestamp</th>\n",
       "      <th>user_emb_id</th>\n",
       "      <th>movie_emb_id</th>\n",
       "    </tr>\n",
       "  </thead>\n",
       "  <tbody>\n",
       "    <tr>\n",
       "      <th>0</th>\n",
       "      <td>1</td>\n",
       "      <td>1193</td>\n",
       "      <td>5</td>\n",
       "      <td>978300760</td>\n",
       "      <td>0</td>\n",
       "      <td>1192</td>\n",
       "    </tr>\n",
       "    <tr>\n",
       "      <th>1</th>\n",
       "      <td>1</td>\n",
       "      <td>661</td>\n",
       "      <td>3</td>\n",
       "      <td>978302109</td>\n",
       "      <td>0</td>\n",
       "      <td>660</td>\n",
       "    </tr>\n",
       "    <tr>\n",
       "      <th>2</th>\n",
       "      <td>1</td>\n",
       "      <td>914</td>\n",
       "      <td>3</td>\n",
       "      <td>978301968</td>\n",
       "      <td>0</td>\n",
       "      <td>913</td>\n",
       "    </tr>\n",
       "    <tr>\n",
       "      <th>3</th>\n",
       "      <td>1</td>\n",
       "      <td>3408</td>\n",
       "      <td>4</td>\n",
       "      <td>978300275</td>\n",
       "      <td>0</td>\n",
       "      <td>3407</td>\n",
       "    </tr>\n",
       "    <tr>\n",
       "      <th>4</th>\n",
       "      <td>1</td>\n",
       "      <td>2355</td>\n",
       "      <td>5</td>\n",
       "      <td>978824291</td>\n",
       "      <td>0</td>\n",
       "      <td>2354</td>\n",
       "    </tr>\n",
       "  </tbody>\n",
       "</table>\n",
       "</div>"
      ],
      "text/plain": [
       "   user_id  movie_id  rating  timestamp  user_emb_id  movie_emb_id\n",
       "0        1      1193       5  978300760            0          1192\n",
       "1        1       661       3  978302109            0           660\n",
       "2        1       914       3  978301968            0           913\n",
       "3        1      3408       4  978300275            0          3407\n",
       "4        1      2355       5  978824291            0          2354"
      ]
     },
     "execution_count": 130,
     "metadata": {},
     "output_type": "execute_result"
    }
   ],
   "source": [
    "ratings.head()"
   ]
  },
  {
   "cell_type": "code",
   "execution_count": 131,
   "id": "b90702c0",
   "metadata": {},
   "outputs": [
    {
     "data": {
      "text/plain": [
       "Index(['user_id', 'movie_id', 'rating', 'timestamp', 'user_emb_id',\n",
       "       'movie_emb_id'],\n",
       "      dtype='object')"
      ]
     },
     "execution_count": 131,
     "metadata": {},
     "output_type": "execute_result"
    }
   ],
   "source": [
    "ratings.columns"
   ]
  },
  {
   "cell_type": "markdown",
   "id": "35d1feae",
   "metadata": {},
   "source": [
    "# "
   ]
  },
  {
   "cell_type": "code",
   "execution_count": 132,
   "id": "44a88e3c",
   "metadata": {},
   "outputs": [
    {
     "data": {
      "text/plain": [
       "movie_id      0\n",
       "title         0\n",
       "genres      993\n",
       "dtype: int64"
      ]
     },
     "execution_count": 132,
     "metadata": {},
     "output_type": "execute_result"
    }
   ],
   "source": [
    "# Checking the missing values\n",
    "movies.isnull().sum()"
   ]
  },
  {
   "cell_type": "code",
   "execution_count": 133,
   "id": "5d4f7cfb",
   "metadata": {},
   "outputs": [
    {
     "data": {
      "text/plain": [
       "(3883, 3)"
      ]
     },
     "execution_count": 133,
     "metadata": {},
     "output_type": "execute_result"
    }
   ],
   "source": [
    "movies.shape"
   ]
  },
  {
   "cell_type": "code",
   "execution_count": 134,
   "id": "1f6283f5",
   "metadata": {},
   "outputs": [
    {
     "data": {
      "text/plain": [
       "movie_id    3883\n",
       "title       3883\n",
       "genres      2890\n",
       "dtype: int64"
      ]
     },
     "execution_count": 134,
     "metadata": {},
     "output_type": "execute_result"
    }
   ],
   "source": [
    "movies.count()"
   ]
  },
  {
   "cell_type": "code",
   "execution_count": 135,
   "id": "10cae24c",
   "metadata": {},
   "outputs": [
    {
     "data": {
      "text/plain": [
       "user_id         1000209\n",
       "movie_id        1000209\n",
       "rating          1000209\n",
       "timestamp       1000209\n",
       "user_emb_id     1000209\n",
       "movie_emb_id    1000209\n",
       "dtype: int64"
      ]
     },
     "execution_count": 135,
     "metadata": {},
     "output_type": "execute_result"
    }
   ],
   "source": [
    "ratings.count()"
   ]
  },
  {
   "cell_type": "markdown",
   "id": "c7bb2d07",
   "metadata": {},
   "source": [
    "# "
   ]
  },
  {
   "cell_type": "markdown",
   "id": "a1d804ea",
   "metadata": {},
   "source": [
    "**3. Popularity-Based Recommendation System**"
   ]
  },
  {
   "cell_type": "markdown",
   "id": "aafa9dfa",
   "metadata": {},
   "source": [
    "Recommend movies based on their average rating and number of ratings."
   ]
  },
  {
   "cell_type": "code",
   "execution_count": 136,
   "id": "816eb0f7",
   "metadata": {},
   "outputs": [],
   "source": [
    "# Calculate average rating and count of ratings \n",
    "movie_stats = ratings.groupby(\"movie_id\").agg({\"rating\":[\"mean\",\"count\"]}).reset_index()\n",
    "movie_stats.columns = [\"movie_id\",\"avg_rating\",\"rating_count\"]"
   ]
  },
  {
   "cell_type": "code",
   "execution_count": 137,
   "id": "3bf5f1d5",
   "metadata": {},
   "outputs": [
    {
     "data": {
      "text/html": [
       "<div>\n",
       "<style scoped>\n",
       "    .dataframe tbody tr th:only-of-type {\n",
       "        vertical-align: middle;\n",
       "    }\n",
       "\n",
       "    .dataframe tbody tr th {\n",
       "        vertical-align: top;\n",
       "    }\n",
       "\n",
       "    .dataframe thead th {\n",
       "        text-align: right;\n",
       "    }\n",
       "</style>\n",
       "<table border=\"1\" class=\"dataframe\">\n",
       "  <thead>\n",
       "    <tr style=\"text-align: right;\">\n",
       "      <th></th>\n",
       "      <th>movie_id</th>\n",
       "      <th>avg_rating</th>\n",
       "      <th>rating_count</th>\n",
       "    </tr>\n",
       "  </thead>\n",
       "  <tbody>\n",
       "    <tr>\n",
       "      <th>0</th>\n",
       "      <td>1</td>\n",
       "      <td>4.146846</td>\n",
       "      <td>2077</td>\n",
       "    </tr>\n",
       "    <tr>\n",
       "      <th>1</th>\n",
       "      <td>2</td>\n",
       "      <td>3.201141</td>\n",
       "      <td>701</td>\n",
       "    </tr>\n",
       "    <tr>\n",
       "      <th>2</th>\n",
       "      <td>3</td>\n",
       "      <td>3.016736</td>\n",
       "      <td>478</td>\n",
       "    </tr>\n",
       "    <tr>\n",
       "      <th>3</th>\n",
       "      <td>4</td>\n",
       "      <td>2.729412</td>\n",
       "      <td>170</td>\n",
       "    </tr>\n",
       "    <tr>\n",
       "      <th>4</th>\n",
       "      <td>5</td>\n",
       "      <td>3.006757</td>\n",
       "      <td>296</td>\n",
       "    </tr>\n",
       "    <tr>\n",
       "      <th>...</th>\n",
       "      <td>...</td>\n",
       "      <td>...</td>\n",
       "      <td>...</td>\n",
       "    </tr>\n",
       "    <tr>\n",
       "      <th>3701</th>\n",
       "      <td>3948</td>\n",
       "      <td>3.635731</td>\n",
       "      <td>862</td>\n",
       "    </tr>\n",
       "    <tr>\n",
       "      <th>3702</th>\n",
       "      <td>3949</td>\n",
       "      <td>4.115132</td>\n",
       "      <td>304</td>\n",
       "    </tr>\n",
       "    <tr>\n",
       "      <th>3703</th>\n",
       "      <td>3950</td>\n",
       "      <td>3.666667</td>\n",
       "      <td>54</td>\n",
       "    </tr>\n",
       "    <tr>\n",
       "      <th>3704</th>\n",
       "      <td>3951</td>\n",
       "      <td>3.900000</td>\n",
       "      <td>40</td>\n",
       "    </tr>\n",
       "    <tr>\n",
       "      <th>3705</th>\n",
       "      <td>3952</td>\n",
       "      <td>3.780928</td>\n",
       "      <td>388</td>\n",
       "    </tr>\n",
       "  </tbody>\n",
       "</table>\n",
       "<p>3706 rows × 3 columns</p>\n",
       "</div>"
      ],
      "text/plain": [
       "      movie_id  avg_rating  rating_count\n",
       "0            1    4.146846          2077\n",
       "1            2    3.201141           701\n",
       "2            3    3.016736           478\n",
       "3            4    2.729412           170\n",
       "4            5    3.006757           296\n",
       "...        ...         ...           ...\n",
       "3701      3948    3.635731           862\n",
       "3702      3949    4.115132           304\n",
       "3703      3950    3.666667            54\n",
       "3704      3951    3.900000            40\n",
       "3705      3952    3.780928           388\n",
       "\n",
       "[3706 rows x 3 columns]"
      ]
     },
     "execution_count": 137,
     "metadata": {},
     "output_type": "execute_result"
    }
   ],
   "source": [
    "movie_stats"
   ]
  },
  {
   "cell_type": "markdown",
   "id": "1f98fae8",
   "metadata": {},
   "source": [
    " "
   ]
  },
  {
   "cell_type": "code",
   "execution_count": 138,
   "id": "4a38c76c",
   "metadata": {},
   "outputs": [],
   "source": [
    "# Merge with movies titles \n",
    "popular_movies = movie_stats.merge(movies,on=\"movie_id\")\n",
    "\n",
    "# Filtering movies with at least 50 ratings \n",
    "popular_movies = popular_movies[popular_movies[\"rating_count\"]>50]\n",
    "\n",
    "# Sorting the movies based on rating count\n",
    "popular_movies = popular_movies.sort_values(by=[\"rating_count\"],ascending=False)"
   ]
  },
  {
   "cell_type": "code",
   "execution_count": 139,
   "id": "5410c633",
   "metadata": {},
   "outputs": [
    {
     "data": {
      "text/html": [
       "<div>\n",
       "<style scoped>\n",
       "    .dataframe tbody tr th:only-of-type {\n",
       "        vertical-align: middle;\n",
       "    }\n",
       "\n",
       "    .dataframe tbody tr th {\n",
       "        vertical-align: top;\n",
       "    }\n",
       "\n",
       "    .dataframe thead th {\n",
       "        text-align: right;\n",
       "    }\n",
       "</style>\n",
       "<table border=\"1\" class=\"dataframe\">\n",
       "  <thead>\n",
       "    <tr style=\"text-align: right;\">\n",
       "      <th></th>\n",
       "      <th>movie_id</th>\n",
       "      <th>avg_rating</th>\n",
       "      <th>rating_count</th>\n",
       "      <th>title</th>\n",
       "      <th>genres</th>\n",
       "    </tr>\n",
       "  </thead>\n",
       "  <tbody>\n",
       "    <tr>\n",
       "      <th>2651</th>\n",
       "      <td>2858</td>\n",
       "      <td>4.317386</td>\n",
       "      <td>3428</td>\n",
       "      <td>American Beauty (1999)</td>\n",
       "      <td>Comedy|Drama</td>\n",
       "    </tr>\n",
       "    <tr>\n",
       "      <th>253</th>\n",
       "      <td>260</td>\n",
       "      <td>4.453694</td>\n",
       "      <td>2991</td>\n",
       "      <td>Star Wars: Episode IV - A New Hope (1977)</td>\n",
       "      <td>Action|Adventure|Fantasy|Sci-Fi</td>\n",
       "    </tr>\n",
       "    <tr>\n",
       "      <th>1106</th>\n",
       "      <td>1196</td>\n",
       "      <td>4.292977</td>\n",
       "      <td>2990</td>\n",
       "      <td>Star Wars: Episode V - The Empire Strikes Back...</td>\n",
       "      <td>Action|Adventure|Drama|Sci-Fi|War</td>\n",
       "    </tr>\n",
       "    <tr>\n",
       "      <th>1120</th>\n",
       "      <td>1210</td>\n",
       "      <td>4.022893</td>\n",
       "      <td>2883</td>\n",
       "      <td>Star Wars: Episode VI - Return of the Jedi (1983)</td>\n",
       "      <td>Action|Adventure|Romance|Sci-Fi|War</td>\n",
       "    </tr>\n",
       "    <tr>\n",
       "      <th>466</th>\n",
       "      <td>480</td>\n",
       "      <td>3.763847</td>\n",
       "      <td>2672</td>\n",
       "      <td>Jurassic Park (1993)</td>\n",
       "      <td>Action|Adventure|Sci-Fi</td>\n",
       "    </tr>\n",
       "    <tr>\n",
       "      <th>...</th>\n",
       "      <td>...</td>\n",
       "      <td>...</td>\n",
       "      <td>...</td>\n",
       "      <td>...</td>\n",
       "      <td>...</td>\n",
       "    </tr>\n",
       "    <tr>\n",
       "      <th>1601</th>\n",
       "      <td>1756</td>\n",
       "      <td>2.549020</td>\n",
       "      <td>51</td>\n",
       "      <td>Prophecy II</td>\n",
       "      <td>NaN</td>\n",
       "    </tr>\n",
       "    <tr>\n",
       "      <th>835</th>\n",
       "      <td>896</td>\n",
       "      <td>3.431373</td>\n",
       "      <td>51</td>\n",
       "      <td>Wild Reeds (1994)</td>\n",
       "      <td>Drama</td>\n",
       "    </tr>\n",
       "    <tr>\n",
       "      <th>2796</th>\n",
       "      <td>3008</td>\n",
       "      <td>3.725490</td>\n",
       "      <td>51</td>\n",
       "      <td>Last Night (1998)</td>\n",
       "      <td>Thriller</td>\n",
       "    </tr>\n",
       "    <tr>\n",
       "      <th>1323</th>\n",
       "      <td>1427</td>\n",
       "      <td>2.294118</td>\n",
       "      <td>51</td>\n",
       "      <td>Turbulence (1997)</td>\n",
       "      <td>Thriller</td>\n",
       "    </tr>\n",
       "    <tr>\n",
       "      <th>1603</th>\n",
       "      <td>1759</td>\n",
       "      <td>3.980392</td>\n",
       "      <td>51</td>\n",
       "      <td>Four Days in September (1997)</td>\n",
       "      <td>Drama</td>\n",
       "    </tr>\n",
       "  </tbody>\n",
       "</table>\n",
       "<p>2499 rows × 5 columns</p>\n",
       "</div>"
      ],
      "text/plain": [
       "      movie_id  avg_rating  rating_count  \\\n",
       "2651      2858    4.317386          3428   \n",
       "253        260    4.453694          2991   \n",
       "1106      1196    4.292977          2990   \n",
       "1120      1210    4.022893          2883   \n",
       "466        480    3.763847          2672   \n",
       "...        ...         ...           ...   \n",
       "1601      1756    2.549020            51   \n",
       "835        896    3.431373            51   \n",
       "2796      3008    3.725490            51   \n",
       "1323      1427    2.294118            51   \n",
       "1603      1759    3.980392            51   \n",
       "\n",
       "                                                  title  \\\n",
       "2651                             American Beauty (1999)   \n",
       "253           Star Wars: Episode IV - A New Hope (1977)   \n",
       "1106  Star Wars: Episode V - The Empire Strikes Back...   \n",
       "1120  Star Wars: Episode VI - Return of the Jedi (1983)   \n",
       "466                                Jurassic Park (1993)   \n",
       "...                                                 ...   \n",
       "1601                                        Prophecy II   \n",
       "835                                   Wild Reeds (1994)   \n",
       "2796                                  Last Night (1998)   \n",
       "1323                                  Turbulence (1997)   \n",
       "1603                      Four Days in September (1997)   \n",
       "\n",
       "                                   genres  \n",
       "2651                         Comedy|Drama  \n",
       "253       Action|Adventure|Fantasy|Sci-Fi  \n",
       "1106    Action|Adventure|Drama|Sci-Fi|War  \n",
       "1120  Action|Adventure|Romance|Sci-Fi|War  \n",
       "466               Action|Adventure|Sci-Fi  \n",
       "...                                   ...  \n",
       "1601                                  NaN  \n",
       "835                                 Drama  \n",
       "2796                             Thriller  \n",
       "1323                             Thriller  \n",
       "1603                                Drama  \n",
       "\n",
       "[2499 rows x 5 columns]"
      ]
     },
     "execution_count": 139,
     "metadata": {},
     "output_type": "execute_result"
    }
   ],
   "source": [
    "popular_movies"
   ]
  },
  {
   "cell_type": "markdown",
   "id": "9414a3b6",
   "metadata": {},
   "source": [
    " "
   ]
  },
  {
   "cell_type": "code",
   "execution_count": 140,
   "id": "e08da807",
   "metadata": {},
   "outputs": [
    {
     "name": "stdout",
     "output_type": "stream",
     "text": [
      "Top 10 Popular Movies: \n",
      "                                                  title  avg_rating  \\\n",
      "2651                             American Beauty (1999)    4.317386   \n",
      "253           Star Wars: Episode IV - A New Hope (1977)    4.453694   \n",
      "1106  Star Wars: Episode V - The Empire Strikes Back...    4.292977   \n",
      "1120  Star Wars: Episode VI - Return of the Jedi (1983)    4.022893   \n",
      "466                                Jurassic Park (1993)    3.763847   \n",
      "1848                         Saving Private Ryan (1998)    4.337354   \n",
      "575                   Terminator 2: Judgment Day (1991)    4.058513   \n",
      "2374                                             Matrix    4.315830   \n",
      "1178                          Back to the Future (1985)    3.990321   \n",
      "579                                Silence of the Lambs    4.351823   \n",
      "\n",
      "      rating_count  \n",
      "2651          3428  \n",
      "253           2991  \n",
      "1106          2990  \n",
      "1120          2883  \n",
      "466           2672  \n",
      "1848          2653  \n",
      "575           2649  \n",
      "2374          2590  \n",
      "1178          2583  \n",
      "579           2578  \n"
     ]
    }
   ],
   "source": [
    "# Top 10 popular movies \n",
    "print(\"Top 10 Popular Movies: \")\n",
    "print(popular_movies[[\"title\",\"avg_rating\",\"rating_count\"]].head(10))"
   ]
  },
  {
   "cell_type": "code",
   "execution_count": 141,
   "id": "0f1c1f81",
   "metadata": {},
   "outputs": [
    {
     "data": {
      "image/png": "[encoded data removed]",
      "text/plain": [
       "<Figure size 720x432 with 1 Axes>"
      ]
     },
     "metadata": {
      "needs_background": "light"
     },
     "output_type": "display_data"
    }
   ],
   "source": [
    "# Plotting the top10 movies as per ratingscount\n",
    "\n",
    "top10 = popular_movies.head(10)\n",
    "plt.figure(figsize=(10,6))\n",
    "sns.barplot(y=\"title\",x=\"rating_count\",data=top10,palette=\"viridis\")\n",
    "plt.title(\"Top 10 Movies as per RatingsCount\",fontsize=14)\n",
    "plt.xlabel(\"Ratings Count\",fontsize=13)\n",
    "plt.ylabel(\"Title of Movie\",fontsize=13)\n",
    "plt.show()"
   ]
  },
  {
   "cell_type": "code",
   "execution_count": null,
   "id": "292bf000",
   "metadata": {},
   "outputs": [],
   "source": []
  },
  {
   "cell_type": "markdown",
   "id": "45b5e602",
   "metadata": {},
   "source": [
    "# "
   ]
  },
  {
   "cell_type": "markdown",
   "id": "acd68ba1",
   "metadata": {},
   "source": [
    "**4. Collaborative Filtering (User-Based)**\n",
    "\n",
    "Recommend movies based on similar users’ preferences."
   ]
  },
  {
   "cell_type": "markdown",
   "id": "e362cd96",
   "metadata": {},
   "source": [
    " "
   ]
  },
  {
   "cell_type": "markdown",
   "id": "7678fec9",
   "metadata": {},
   "source": [
    "**4.1 Creating User-Item Matrix:**"
   ]
  },
  {
   "cell_type": "code",
   "execution_count": 142,
   "id": "b22913a2",
   "metadata": {},
   "outputs": [
    {
     "name": "stdout",
     "output_type": "stream",
     "text": [
      "User-Item Matrix:\n",
      "movie_id  1     2     3     4     5     6     7     8     9     10    ...  \\\n",
      "user_id                                                               ...   \n",
      "1          5.0   0.0   0.0   0.0   0.0   0.0   0.0   0.0   0.0   0.0  ...   \n",
      "2          0.0   0.0   0.0   0.0   0.0   0.0   0.0   0.0   0.0   0.0  ...   \n",
      "3          0.0   0.0   0.0   0.0   0.0   0.0   0.0   0.0   0.0   0.0  ...   \n",
      "4          0.0   0.0   0.0   0.0   0.0   0.0   0.0   0.0   0.0   0.0  ...   \n",
      "5          0.0   0.0   0.0   0.0   0.0   2.0   0.0   0.0   0.0   0.0  ...   \n",
      "\n",
      "movie_id  3943  3944  3945  3946  3947  3948  3949  3950  3951  3952  \n",
      "user_id                                                               \n",
      "1          0.0   0.0   0.0   0.0   0.0   0.0   0.0   0.0   0.0   0.0  \n",
      "2          0.0   0.0   0.0   0.0   0.0   0.0   0.0   0.0   0.0   0.0  \n",
      "3          0.0   0.0   0.0   0.0   0.0   0.0   0.0   0.0   0.0   0.0  \n",
      "4          0.0   0.0   0.0   0.0   0.0   0.0   0.0   0.0   0.0   0.0  \n",
      "5          0.0   0.0   0.0   0.0   0.0   0.0   0.0   0.0   0.0   0.0  \n",
      "\n",
      "[5 rows x 3706 columns]\n"
     ]
    }
   ],
   "source": [
    "# Create user-item matrix\n",
    "user_movie_matrix = ratings.pivot_table(index='user_id', columns='movie_id', values='rating')\n",
    "\n",
    "# Fill missing values with 0\n",
    "user_movie_matrix_filled = user_movie_matrix.fillna(0)\n",
    "\n",
    "# Display the user-item matrix\n",
    "print(\"User-Item Matrix:\")\n",
    "print(user_movie_matrix_filled.head())"
   ]
  },
  {
   "cell_type": "markdown",
   "id": "e5d8e9e7",
   "metadata": {},
   "source": [
    " "
   ]
  },
  {
   "cell_type": "markdown",
   "id": "32630276",
   "metadata": {},
   "source": [
    " "
   ]
  },
  {
   "cell_type": "markdown",
   "id": "a3c74366",
   "metadata": {},
   "source": [
    "**4.2 Compute User Similarity:**"
   ]
  },
  {
   "cell_type": "code",
   "execution_count": 143,
   "id": "a38cac87",
   "metadata": {},
   "outputs": [
    {
     "name": "stdout",
     "output_type": "stream",
     "text": [
      "User Similarity Matrix:\n",
      "user_id      1         2         3         4         5         6         7     \\\n",
      "user_id                                                                         \n",
      "1        1.000000  0.096382  0.120610  0.132455  0.090158  0.179222  0.059678   \n",
      "2        0.096382  1.000000  0.151479  0.171176  0.114394  0.100865  0.305787   \n",
      "3        0.120610  0.151479  1.000000  0.151227  0.062907  0.074603  0.138332   \n",
      "4        0.132455  0.171176  0.151227  1.000000  0.045094  0.013529  0.130339   \n",
      "5        0.090158  0.114394  0.062907  0.045094  1.000000  0.047449  0.126257   \n",
      "\n",
      "user_id      8         9         10    ...      6031      6032      6033  \\\n",
      "user_id                                ...                                 \n",
      "1        0.138241  0.226148  0.255288  ...  0.170588  0.082006  0.069807   \n",
      "2        0.203337  0.190198  0.226861  ...  0.112503  0.091222  0.268565   \n",
      "3        0.077656  0.126457  0.213655  ...  0.092960  0.125864  0.161507   \n",
      "4        0.100856  0.093651  0.120738  ...  0.163629  0.093041  0.382803   \n",
      "5        0.220817  0.261330  0.117052  ...  0.100652  0.035732  0.061806   \n",
      "\n",
      "user_id      6034      6035      6036      6037      6038      6039      6040  \n",
      "user_id                                                                        \n",
      "1        0.033663  0.114877  0.186329  0.135979  0.000000  0.174604  0.133590  \n",
      "2        0.014286  0.183384  0.228241  0.206274  0.066118  0.066457  0.218276  \n",
      "3        0.000000  0.097308  0.143264  0.107744  0.120234  0.094675  0.133144  \n",
      "4        0.000000  0.082097  0.170583  0.127464  0.062907  0.064634  0.137968  \n",
      "5        0.054151  0.179083  0.293365  0.172686  0.020459  0.027689  0.241437  \n",
      "\n",
      "[5 rows x 6040 columns]\n"
     ]
    }
   ],
   "source": [
    "# Compute cosine similarity between users\n",
    "user_similarity = cosine_similarity(user_movie_matrix_filled)\n",
    "user_similarity_df = pd.DataFrame(user_similarity, index=user_movie_matrix_filled.index,\n",
    "                                  columns=user_movie_matrix_filled.index)\n",
    "\n",
    "print(\"User Similarity Matrix:\")\n",
    "print(user_similarity_df.head())"
   ]
  },
  {
   "cell_type": "markdown",
   "id": "b04a5346",
   "metadata": {},
   "source": [
    " "
   ]
  },
  {
   "cell_type": "markdown",
   "id": "b2fea651",
   "metadata": {},
   "source": [
    " "
   ]
  },
  {
   "cell_type": "markdown",
   "id": "eef92e83",
   "metadata": {},
   "source": [
    "**4.3 Defining Function which will Recommend Movies for a User:**"
   ]
  },
  {
   "cell_type": "code",
   "execution_count": 144,
   "id": "f1d168c7",
   "metadata": {},
   "outputs": [
    {
     "name": "stdout",
     "output_type": "stream",
     "text": [
      "Top 5 Recommendations for User 1:\n",
      "                                                  title  \\\n",
      "589                                Silence of the Lambs   \n",
      "1178  Star Wars: Episode V - The Empire Strikes Back...   \n",
      "1180                     Raiders of the Lost Ark (1981)   \n",
      "1192  Star Wars: Episode VI - Return of the Jedi (1983)   \n",
      "2789                             American Beauty (1999)   \n",
      "\n",
      "                                   genres  \n",
      "589                                   NaN  \n",
      "1178    Action|Adventure|Drama|Sci-Fi|War  \n",
      "1180                     Action|Adventure  \n",
      "1192  Action|Adventure|Romance|Sci-Fi|War  \n",
      "2789                         Comedy|Drama  \n"
     ]
    }
   ],
   "source": [
    "# Function to recommend movies based on similar users\n",
    "def recommend_movies(user_id, user_movie_matrix, user_similarity, movies, top_n=5):\n",
    "    # Find similar users\n",
    "    user_index = user_id - 1  # Assuming userId starts at 1\n",
    "    similar_users = user_similarity[user_index]\n",
    "    \n",
    "    # Weighted ratings\n",
    "    user_ratings = user_movie_matrix.loc[user_id]\n",
    "    weighted_ratings = (similar_users @ user_movie_matrix.fillna(0)) / similar_users.sum()\n",
    "    \n",
    "    # Filter out already rated movies\n",
    "    recommendations = pd.Series(weighted_ratings, index=user_movie_matrix.columns)\n",
    "    recommendations = recommendations[user_ratings.isnull()]\n",
    "    \n",
    "    # Get top recommendations\n",
    "    top_recommendations = recommendations.sort_values(ascending=False).head(top_n)\n",
    "    recommended_movies = movies[movies['movie_id'].isin(top_recommendations.index)]\n",
    "    \n",
    "    return recommended_movies[['title', 'genres']]\n",
    "\n",
    "# Recommendmovies for user 1\n",
    "user_id = 1\n",
    "print(f\"Top 5 Recommendations for User {user_id}:\")\n",
    "print(recommend_movies(user_id, user_movie_matrix, user_similarity, movies))"
   ]
  },
  {
   "cell_type": "code",
   "execution_count": null,
   "id": "d7afb268",
   "metadata": {},
   "outputs": [],
   "source": []
  },
  {
   "cell_type": "markdown",
   "id": "4c31ff6c",
   "metadata": {},
   "source": [
    "# "
   ]
  },
  {
   "cell_type": "markdown",
   "id": "f2630a56",
   "metadata": {},
   "source": [
    "**5. Exploratory Data Analysis (EDA)**"
   ]
  },
  {
   "cell_type": "markdown",
   "id": "e08eb666",
   "metadata": {},
   "source": [
    "5.1 Distribution of ratings"
   ]
  },
  {
   "cell_type": "code",
   "execution_count": 145,
   "id": "f5020d70",
   "metadata": {},
   "outputs": [
    {
     "data": {
      "image/png": "[encoded data removed]",
      "text/plain": [
       "<Figure size 576x360 with 1 Axes>"
      ]
     },
     "metadata": {
      "needs_background": "light"
     },
     "output_type": "display_data"
    }
   ],
   "source": [
    "# Distribution of ratings\n",
    "plt.figure(figsize=(8, 5))\n",
    "sns.histplot(ratings['rating'], bins=10 , kde=True, color='blue')\n",
    "plt.title('Distribution of Ratings')\n",
    "plt.xlabel('Rating')\n",
    "plt.ylabel('Count')\n",
    "plt.show()"
   ]
  },
  {
   "cell_type": "markdown",
   "id": "596e3388",
   "metadata": {},
   "source": [
    " "
   ]
  },
  {
   "cell_type": "markdown",
   "id": "3ae3b576",
   "metadata": {},
   "source": [
    "5.2 Top Genres by Popularity"
   ]
  },
  {
   "cell_type": "code",
   "execution_count": 146,
   "id": "96937841",
   "metadata": {},
   "outputs": [
    {
     "data": {
      "text/plain": [
       "0    Drama\n",
       "Name: genres, dtype: object"
      ]
     },
     "execution_count": 146,
     "metadata": {},
     "output_type": "execute_result"
    }
   ],
   "source": [
    "# Finding the most watched genre\n",
    "movies[\"genres\"].mode()"
   ]
  },
  {
   "cell_type": "markdown",
   "id": "ffb7a101",
   "metadata": {},
   "source": [
    " "
   ]
  },
  {
   "cell_type": "code",
   "execution_count": 147,
   "id": "9b090c51",
   "metadata": {},
   "outputs": [],
   "source": [
    "# Extract genres\n",
    "movies['genres'] = movies['genres'].str.split('|')\n",
    "\n",
    "# Count genres\n",
    "all_genres = pd.DataFrame(movies['genres'].explode().value_counts().reset_index())\n",
    "all_genres.columns = ['Genre', 'Count']\n"
   ]
  },
  {
   "cell_type": "code",
   "execution_count": 148,
   "id": "2701fec0",
   "metadata": {},
   "outputs": [
    {
     "data": {
      "image/png": "[encoded data removed]",
      "text/plain": [
       "<Figure size 720x576 with 1 Axes>"
      ]
     },
     "metadata": {
      "needs_background": "light"
     },
     "output_type": "display_data"
    }
   ],
   "source": [
    "# Visualize top genres\n",
    "plt.figure(figsize=(10, 8))\n",
    "sns.barplot(x='Count', y='Genre', data=all_genres, palette='coolwarm')\n",
    "plt.title('Top Movie Genres by Count',fontsize=14)\n",
    "plt.xlabel('Count',fontsize=12.5)\n",
    "plt.ylabel('Genre',fontsize=12.5)\n",
    "plt.show()"
   ]
  },
  {
   "cell_type": "markdown",
   "id": "d3905fe6",
   "metadata": {},
   "source": [
    " "
   ]
  },
  {
   "cell_type": "markdown",
   "id": "9d78aafa",
   "metadata": {},
   "source": [
    "# Conclusion"
   ]
  },
  {
   "cell_type": "markdown",
   "id": "25bd308f",
   "metadata": {},
   "source": [
    "In this notebook, I demonstrated how to use a **user-based collaborative filtering approach** to build a recommendation engine for movie ratings. By **leveraging a User-Item Matrix and calculating cosine similarity between users**, this model **successfully provided personalized movie recommendations**. This approach effectively identifies similar users and suggests movies that align with the preferences of the target user, showcasing the power of collaborative filtering in recommendation systems."
   ]
  },
  {
   "cell_type": "markdown",
   "id": "1697f045",
   "metadata": {},
   "source": [
    " "
   ]
  }
 ],
 "metadata": {
  "kernelspec": {
   "display_name": "Python 3 (ipykernel)",
   "language": "python",
   "name": "python3"
  },
  "language_info": {
   "codemirror_mode": {
    "name": "ipython",
    "version": 3
   },
   "file_extension": ".py",
   "mimetype": "text/x-python",
   "name": "python",
   "nbconvert_exporter": "python",
   "pygments_lexer": "ipython3",
   "version": "3.9.12"
  }
 },
 "nbformat": 4,
 "nbformat_minor": 5
}
